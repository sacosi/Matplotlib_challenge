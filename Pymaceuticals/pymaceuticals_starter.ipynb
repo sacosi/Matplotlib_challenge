{
 "cells": [
  {
   "cell_type": "markdown",
   "metadata": {},
   "source": [
    "## Observations and Insights"
   ]
  },
  {
   "cell_type": "markdown",
   "metadata": {},
   "source": []
  },
  {
   "cell_type": "markdown",
   "metadata": {},
   "source": [
    "## Dependencies and starter code"
   ]
  },
  {
   "cell_type": "code",
   "execution_count": 1,
   "metadata": {},
   "outputs": [
    {
     "data": {
      "text/html": [
       "<div>\n",
       "<style scoped>\n",
       "    .dataframe tbody tr th:only-of-type {\n",
       "        vertical-align: middle;\n",
       "    }\n",
       "\n",
       "    .dataframe tbody tr th {\n",
       "        vertical-align: top;\n",
       "    }\n",
       "\n",
       "    .dataframe thead th {\n",
       "        text-align: right;\n",
       "    }\n",
       "</style>\n",
       "<table border=\"1\" class=\"dataframe\">\n",
       "  <thead>\n",
       "    <tr style=\"text-align: right;\">\n",
       "      <th></th>\n",
       "      <th>Mouse ID</th>\n",
       "      <th>Timepoint</th>\n",
       "      <th>Tumor Volume (mm3)</th>\n",
       "      <th>Metastatic Sites</th>\n",
       "      <th>Drug Regimen</th>\n",
       "      <th>Sex</th>\n",
       "      <th>Age_months</th>\n",
       "      <th>Weight (g)</th>\n",
       "    </tr>\n",
       "  </thead>\n",
       "  <tbody>\n",
       "    <tr>\n",
       "      <td>0</td>\n",
       "      <td>b128</td>\n",
       "      <td>0</td>\n",
       "      <td>45.0</td>\n",
       "      <td>0</td>\n",
       "      <td>Capomulin</td>\n",
       "      <td>Female</td>\n",
       "      <td>9</td>\n",
       "      <td>22</td>\n",
       "    </tr>\n",
       "    <tr>\n",
       "      <td>1</td>\n",
       "      <td>f932</td>\n",
       "      <td>0</td>\n",
       "      <td>45.0</td>\n",
       "      <td>0</td>\n",
       "      <td>Ketapril</td>\n",
       "      <td>Male</td>\n",
       "      <td>15</td>\n",
       "      <td>29</td>\n",
       "    </tr>\n",
       "    <tr>\n",
       "      <td>2</td>\n",
       "      <td>g107</td>\n",
       "      <td>0</td>\n",
       "      <td>45.0</td>\n",
       "      <td>0</td>\n",
       "      <td>Ketapril</td>\n",
       "      <td>Female</td>\n",
       "      <td>2</td>\n",
       "      <td>29</td>\n",
       "    </tr>\n",
       "    <tr>\n",
       "      <td>3</td>\n",
       "      <td>a457</td>\n",
       "      <td>0</td>\n",
       "      <td>45.0</td>\n",
       "      <td>0</td>\n",
       "      <td>Ketapril</td>\n",
       "      <td>Female</td>\n",
       "      <td>11</td>\n",
       "      <td>30</td>\n",
       "    </tr>\n",
       "    <tr>\n",
       "      <td>4</td>\n",
       "      <td>c819</td>\n",
       "      <td>0</td>\n",
       "      <td>45.0</td>\n",
       "      <td>0</td>\n",
       "      <td>Ketapril</td>\n",
       "      <td>Male</td>\n",
       "      <td>21</td>\n",
       "      <td>25</td>\n",
       "    </tr>\n",
       "  </tbody>\n",
       "</table>\n",
       "</div>"
      ],
      "text/plain": [
       "  Mouse ID  Timepoint  Tumor Volume (mm3)  Metastatic Sites Drug Regimen  \\\n",
       "0     b128          0                45.0                 0    Capomulin   \n",
       "1     f932          0                45.0                 0     Ketapril   \n",
       "2     g107          0                45.0                 0     Ketapril   \n",
       "3     a457          0                45.0                 0     Ketapril   \n",
       "4     c819          0                45.0                 0     Ketapril   \n",
       "\n",
       "      Sex  Age_months  Weight (g)  \n",
       "0  Female           9          22  \n",
       "1    Male          15          29  \n",
       "2  Female           2          29  \n",
       "3  Female          11          30  \n",
       "4    Male          21          25  "
      ]
     },
     "execution_count": 1,
     "metadata": {},
     "output_type": "execute_result"
    }
   ],
   "source": [
    "# Dependencies and Setup\n",
    "import matplotlib.pyplot as plt\n",
    "import pandas as pd\n",
    "from scipy import stats\n",
    "\n",
    "# Study data files\n",
    "mouse_metadata = \"data/Mouse_metadata.csv\"\n",
    "study_results = \"data/Study_results.csv\"\n",
    "\n",
    "# Read the mouse data and the study results\n",
    "mouse_metadata = pd.read_csv(mouse_metadata)\n",
    "study_results = pd.read_csv(study_results)\n",
    "\n",
    "# Combine the data into a single dataset\n",
    "combined=study_results.merge(mouse_metadata, on='Mouse ID',how='left')\n",
    "combined.head()"
   ]
  },
  {
   "cell_type": "markdown",
   "metadata": {},
   "source": [
    "## Summary statistics"
   ]
  },
  {
   "cell_type": "code",
   "execution_count": 2,
   "metadata": {},
   "outputs": [
    {
     "data": {
      "text/html": [
       "<div>\n",
       "<style scoped>\n",
       "    .dataframe tbody tr th:only-of-type {\n",
       "        vertical-align: middle;\n",
       "    }\n",
       "\n",
       "    .dataframe tbody tr th {\n",
       "        vertical-align: top;\n",
       "    }\n",
       "\n",
       "    .dataframe thead tr th {\n",
       "        text-align: left;\n",
       "    }\n",
       "\n",
       "    .dataframe thead tr:last-of-type th {\n",
       "        text-align: right;\n",
       "    }\n",
       "</style>\n",
       "<table border=\"1\" class=\"dataframe\">\n",
       "  <thead>\n",
       "    <tr>\n",
       "      <th></th>\n",
       "      <th colspan=\"5\" halign=\"left\">Tumor Volume (mm3)</th>\n",
       "    </tr>\n",
       "    <tr>\n",
       "      <th></th>\n",
       "      <th>mean</th>\n",
       "      <th>median</th>\n",
       "      <th>var</th>\n",
       "      <th>std</th>\n",
       "      <th>sem</th>\n",
       "    </tr>\n",
       "    <tr>\n",
       "      <th>Drug Regimen</th>\n",
       "      <th></th>\n",
       "      <th></th>\n",
       "      <th></th>\n",
       "      <th></th>\n",
       "      <th></th>\n",
       "    </tr>\n",
       "  </thead>\n",
       "  <tbody>\n",
       "    <tr>\n",
       "      <td>Capomulin</td>\n",
       "      <td>40.676</td>\n",
       "      <td>41.558</td>\n",
       "      <td>24.948</td>\n",
       "      <td>4.995</td>\n",
       "      <td>0.329</td>\n",
       "    </tr>\n",
       "    <tr>\n",
       "      <td>Ceftamin</td>\n",
       "      <td>52.591</td>\n",
       "      <td>51.776</td>\n",
       "      <td>39.290</td>\n",
       "      <td>6.268</td>\n",
       "      <td>0.470</td>\n",
       "    </tr>\n",
       "    <tr>\n",
       "      <td>Infubinol</td>\n",
       "      <td>52.885</td>\n",
       "      <td>51.821</td>\n",
       "      <td>43.129</td>\n",
       "      <td>6.567</td>\n",
       "      <td>0.492</td>\n",
       "    </tr>\n",
       "    <tr>\n",
       "      <td>Ketapril</td>\n",
       "      <td>55.236</td>\n",
       "      <td>53.699</td>\n",
       "      <td>68.554</td>\n",
       "      <td>8.280</td>\n",
       "      <td>0.604</td>\n",
       "    </tr>\n",
       "    <tr>\n",
       "      <td>Naftisol</td>\n",
       "      <td>54.332</td>\n",
       "      <td>52.509</td>\n",
       "      <td>66.173</td>\n",
       "      <td>8.135</td>\n",
       "      <td>0.596</td>\n",
       "    </tr>\n",
       "    <tr>\n",
       "      <td>Placebo</td>\n",
       "      <td>54.034</td>\n",
       "      <td>52.289</td>\n",
       "      <td>61.168</td>\n",
       "      <td>7.821</td>\n",
       "      <td>0.581</td>\n",
       "    </tr>\n",
       "    <tr>\n",
       "      <td>Propriva</td>\n",
       "      <td>52.323</td>\n",
       "      <td>50.855</td>\n",
       "      <td>42.351</td>\n",
       "      <td>6.508</td>\n",
       "      <td>0.513</td>\n",
       "    </tr>\n",
       "    <tr>\n",
       "      <td>Ramicane</td>\n",
       "      <td>40.217</td>\n",
       "      <td>40.673</td>\n",
       "      <td>23.487</td>\n",
       "      <td>4.846</td>\n",
       "      <td>0.321</td>\n",
       "    </tr>\n",
       "    <tr>\n",
       "      <td>Stelasyn</td>\n",
       "      <td>54.233</td>\n",
       "      <td>52.432</td>\n",
       "      <td>59.451</td>\n",
       "      <td>7.710</td>\n",
       "      <td>0.573</td>\n",
       "    </tr>\n",
       "    <tr>\n",
       "      <td>Zoniferol</td>\n",
       "      <td>53.237</td>\n",
       "      <td>51.818</td>\n",
       "      <td>48.533</td>\n",
       "      <td>6.967</td>\n",
       "      <td>0.516</td>\n",
       "    </tr>\n",
       "  </tbody>\n",
       "</table>\n",
       "</div>"
      ],
      "text/plain": [
       "             Tumor Volume (mm3)                              \n",
       "                           mean  median     var    std    sem\n",
       "Drug Regimen                                                 \n",
       "Capomulin                40.676  41.558  24.948  4.995  0.329\n",
       "Ceftamin                 52.591  51.776  39.290  6.268  0.470\n",
       "Infubinol                52.885  51.821  43.129  6.567  0.492\n",
       "Ketapril                 55.236  53.699  68.554  8.280  0.604\n",
       "Naftisol                 54.332  52.509  66.173  8.135  0.596\n",
       "Placebo                  54.034  52.289  61.168  7.821  0.581\n",
       "Propriva                 52.323  50.855  42.351  6.508  0.513\n",
       "Ramicane                 40.217  40.673  23.487  4.846  0.321\n",
       "Stelasyn                 54.233  52.432  59.451  7.710  0.573\n",
       "Zoniferol                53.237  51.818  48.533  6.967  0.516"
      ]
     },
     "execution_count": 2,
     "metadata": {},
     "output_type": "execute_result"
    }
   ],
   "source": [
    "# Generate a summary statistics table of mean, median, variance, standard deviation, and SEM of the tumor volume for each regimen\n",
    "\n",
    "#Grouping the new combined table by Drug\n",
    "regimen_group=combined.groupby('Drug Regimen')\n",
    "\n",
    "#Using the agg function to calculate mean, median, var, std and sem\n",
    "regimenStats=round(regimen_group.agg({'Tumor Volume (mm3)': ['mean', 'median','var','std','sem']}),3)\n",
    "regimenStats\n"
   ]
  },
  {
   "cell_type": "markdown",
   "metadata": {},
   "source": [
    "## Bar plots"
   ]
  },
  {
   "cell_type": "code",
   "execution_count": 3,
   "metadata": {},
   "outputs": [
    {
     "data": {
      "text/plain": [
       "Text(0, 0.5, 'Data Points')"
      ]
     },
     "execution_count": 3,
     "metadata": {},
     "output_type": "execute_result"
    },
    {
     "data": {
      "image/png": "[encoded data removed]",
      "text/plain": [
       "<Figure size 720x360 with 1 Axes>"
      ]
     },
     "metadata": {
      "needs_background": "light"
     },
     "output_type": "display_data"
    }
   ],
   "source": [
    "# Generate a bar plot showing number of data points for each treatment regimen using pandas\n",
    "\n",
    "#Counting the data points for each drug\n",
    "dr_datapoints=combined['Drug Regimen'].value_counts()\n",
    "\n",
    "#Ploting and editing the data points in a bar chart\n",
    "barpd=dr_datapoints.plot(kind='bar',title='Number of data points for each treatment regimen',figsize=(10,5),colormap='Blues_r')\n",
    "barpd.set_xlabel('Drug Regimen')\n",
    "barpd.set_ylabel('Data Points')"
   ]
  },
  {
   "cell_type": "code",
   "execution_count": 4,
   "metadata": {},
   "outputs": [
    {
     "data": {
      "text/plain": [
       "Text(0.5, 1.0, 'Number of data points for each treatment regimen')"
      ]
     },
     "execution_count": 4,
     "metadata": {},
     "output_type": "execute_result"
    },
    {
     "data": {
      "image/png": "[encoded data removed]",
      "text/plain": [
       "<Figure size 720x360 with 1 Axes>"
      ]
     },
     "metadata": {
      "needs_background": "light"
     },
     "output_type": "display_data"
    }
   ],
   "source": [
    "# Generate a bar plot showing number of data points for each treatment regimen using pyplot\n",
    "\n",
    "#Ploting the same data point in a similar plot but using pyplot\n",
    "plt.figure(figsize=(10,5))\n",
    "plt.bar(dr_datapoints.keys(),dr_datapoints,width=0.5, color='midnightblue')\n",
    "plt.xticks(rotation='vertical')\n",
    "plt.xlim(-0.50, len(dr_datapoints.keys())-0.5)\n",
    "plt.xlabel('Drug Regimen')\n",
    "plt.ylabel('Data Points')\n",
    "plt.title('Number of data points for each treatment regimen')"
   ]
  },
  {
   "cell_type": "markdown",
   "metadata": {},
   "source": [
    "## Pie plots"
   ]
  },
  {
   "cell_type": "code",
   "execution_count": 5,
   "metadata": {},
   "outputs": [
    {
     "data": {
      "text/plain": [
       "Text(0, 0.5, '')"
      ]
     },
     "execution_count": 5,
     "metadata": {},
     "output_type": "execute_result"
    },
    {
     "data": {
      "image/png": "[encoded data removed]",
      "text/plain": [
       "<Figure size 432x288 with 1 Axes>"
      ]
     },
     "metadata": {},
     "output_type": "display_data"
    }
   ],
   "source": [
    "# Generate a pie plot showing the distribution of female versus male mice using pandas\n",
    "\n",
    "#Counting the values for each gender from the original mice table\n",
    "sex=mouse_metadata['Sex'].value_counts()\n",
    "\n",
    "\n",
    "labels=sex.keys() # Getting the 2 genders\n",
    "values=sex.tolist() #Getting the values\n",
    "\n",
    "#Ploting it in a Pie chart\n",
    "colors=['steelblue','lightpink']\n",
    "title='Count of mice per gender'\n",
    "piepd=sex.plot(kind='pie',startangle=90,autopct='%1.1f%%',title=title,colors=colors)\n",
    "piepd.set_ylabel('')"
   ]
  },
  {
   "cell_type": "code",
   "execution_count": 6,
   "metadata": {},
   "outputs": [
    {
     "data": {
      "text/plain": [
       "Text(0.5, 1.0, 'Count of mice per gender')"
      ]
     },
     "execution_count": 6,
     "metadata": {},
     "output_type": "execute_result"
    },
    {
     "data": {
      "image/png": "[encoded data removed]",
      "text/plain": [
       "<Figure size 432x288 with 1 Axes>"
      ]
     },
     "metadata": {},
     "output_type": "display_data"
    }
   ],
   "source": [
    "# Generate a pie plot showing the distribution of female versus male mice using pyplot\n",
    "\n",
    "#Ploting the same values in a similar chart using pyplot\n",
    "plt.pie(values,labels=labels,autopct='%1.1f%%',colors=colors,startangle=90)\n",
    "plt.title(title)"
   ]
  },
  {
   "cell_type": "markdown",
   "metadata": {},
   "source": [
    "## Quartiles, outliers and boxplots"
   ]
  },
  {
   "cell_type": "code",
   "execution_count": 7,
   "metadata": {},
   "outputs": [
    {
     "name": "stdout",
     "output_type": "stream",
     "text": [
      "The data for mice treated with Capomulin shows 0 outlier(s)\n",
      "The data for mice treated with Ramicane shows 0 outlier(s)\n",
      "The data for mice treated with Infubinol shows 1 outlier(s)\n",
      "The data for mice treated with Ceftamin shows 0 outlier(s)\n"
     ]
    }
   ],
   "source": [
    "# Calculate the final tumor volume of each mouse across four of the most promising treatment regimens. Calculate the IQR and quantitatively determine if there are any potential outliers. \n",
    "\n",
    "#Grouping the combined table by Mouse\n",
    "mice_gr=combined.groupby('Mouse ID')\n",
    "\n",
    "#Gathering the row number of the max value for each mouse to know when was the last day of treatment for each mouse\n",
    "timepoint_max_row=mice_gr['Timepoint'].idxmax()\n",
    "\n",
    "#create a new table only with the indexes gathered before\n",
    "lastVolMice=combined.loc[timepoint_max_row,:]\n",
    "\n",
    "#Array of drugs to analyze\n",
    "promisingtreatment=['Capomulin','Ramicane','Infubinol','Ceftamin']\n",
    "\n",
    "#create arrays of tumor volumes for each drug\n",
    "treatmentvalues=[lastVolMice.loc[(lastVolMice['Drug Regimen']==t),'Tumor Volume (mm3)'] for t in promisingtreatment]\n",
    "\n",
    "#Find the quartiles, the iqr and the upper and lower boundery for the outliers\n",
    "quartiles=[t.quantile([.25,.5,.75]) for t in treatmentvalues]\n",
    "lowerq=[quartiles[index][0.25] for index,t in enumerate(treatmentvalues)]\n",
    "upperq=[quartiles[index][0.75] for index,t in enumerate(treatmentvalues)]\n",
    "iqr=[upperq[index]-lowerq[index] for index,t in enumerate(treatmentvalues)]\n",
    "lower_bound=[lowerq[index] - (1.5*iqr[index]) for index,t in enumerate(treatmentvalues)]\n",
    "upper_bound=[upperq[index] + (1.5*iqr[index]) for index,t in enumerate(treatmentvalues)]\n",
    "\n",
    "#Store if any outliers\n",
    "outliers=[treatmentvalues[index].loc[(t<lower_bound[index]) | (t>upper_bound[index])]\n",
    "          for index,t in enumerate(treatmentvalues)]\n",
    "\n",
    "#Printing the number of outliers for each treatment\n",
    "for index,o in enumerate(outliers):\n",
    "    print(f'The data for mice treated with {promisingtreatment[index]} shows {len(o)} outlier(s)')"
   ]
  },
  {
   "cell_type": "code",
   "execution_count": 8,
   "metadata": {},
   "outputs": [
    {
     "data": {
      "text/plain": [
       "<function matplotlib.pyplot.show(*args, **kw)>"
      ]
     },
     "execution_count": 8,
     "metadata": {},
     "output_type": "execute_result"
    },
    {
     "data": {
      "image/png": "[encoded data removed]",
      "text/plain": [
       "<Figure size 720x360 with 1 Axes>"
      ]
     },
     "metadata": {
      "needs_background": "light"
     },
     "output_type": "display_data"
    }
   ],
   "source": [
    "# Generate a box plot of the final tumor volume of each mouse across four regimens of interest\n",
    "\n",
    "#Ploting it in a boxplot\n",
    "\n",
    "#Data to plot are the different indexes of the treatmentvalues array\n",
    "datatoplot=[treatmentvalues[0],treatmentvalues[1],treatmentvalues[2],treatmentvalues[3]]\n",
    "# Editing the plot\n",
    "fig = plt.figure(figsize=(10,5))\n",
    "ax = fig.add_subplot()\n",
    "bp = ax.boxplot(datatoplot,sym='g*')\n",
    "ax.set_xticklabels(promisingtreatment,size=10)\n",
    "plt.title('Final tumor of each mouse per treatment',size=20)\n",
    "plt.xlabel('Treatment Regimen',size=15)\n",
    "plt.ylabel('Final Tumor Volume (mm3)',size=15)\n",
    "plt.show\n"
   ]
  },
  {
   "cell_type": "code",
   "execution_count": 9,
   "metadata": {},
   "outputs": [
    {
     "name": "stdout",
     "output_type": "stream",
     "text": [
      "Information about the outlier found in the chart above\n"
     ]
    },
    {
     "data": {
      "text/html": [
       "<div>\n",
       "<style scoped>\n",
       "    .dataframe tbody tr th:only-of-type {\n",
       "        vertical-align: middle;\n",
       "    }\n",
       "\n",
       "    .dataframe tbody tr th {\n",
       "        vertical-align: top;\n",
       "    }\n",
       "\n",
       "    .dataframe thead th {\n",
       "        text-align: right;\n",
       "    }\n",
       "</style>\n",
       "<table border=\"1\" class=\"dataframe\">\n",
       "  <thead>\n",
       "    <tr style=\"text-align: right;\">\n",
       "      <th></th>\n",
       "      <th>Mouse ID</th>\n",
       "      <th>Timepoint</th>\n",
       "      <th>Tumor Volume (mm3)</th>\n",
       "      <th>Metastatic Sites</th>\n",
       "      <th>Drug Regimen</th>\n",
       "      <th>Sex</th>\n",
       "      <th>Age_months</th>\n",
       "      <th>Weight (g)</th>\n",
       "    </tr>\n",
       "  </thead>\n",
       "  <tbody>\n",
       "    <tr>\n",
       "      <td>420</td>\n",
       "      <td>c326</td>\n",
       "      <td>5</td>\n",
       "      <td>36.321346</td>\n",
       "      <td>0</td>\n",
       "      <td>Infubinol</td>\n",
       "      <td>Female</td>\n",
       "      <td>18</td>\n",
       "      <td>25</td>\n",
       "    </tr>\n",
       "  </tbody>\n",
       "</table>\n",
       "</div>"
      ],
      "text/plain": [
       "    Mouse ID  Timepoint  Tumor Volume (mm3)  Metastatic Sites Drug Regimen  \\\n",
       "420     c326          5           36.321346                 0    Infubinol   \n",
       "\n",
       "        Sex  Age_months  Weight (g)  \n",
       "420  Female          18          25  "
      ]
     },
     "execution_count": 9,
     "metadata": {},
     "output_type": "execute_result"
    }
   ],
   "source": [
    "#Information about the outlier:\n",
    "outlierInfubinol=combined.loc[outliers[2].keys(),:]\n",
    "print(\"Information about the outlier found in the chart above\")\n",
    "outlierInfubinol"
   ]
  },
  {
   "cell_type": "markdown",
   "metadata": {},
   "source": [
    "## Line and scatter plots"
   ]
  },
  {
   "cell_type": "code",
   "execution_count": 10,
   "metadata": {},
   "outputs": [
    {
     "name": "stdout",
     "output_type": "stream",
     "text": [
      "             Sex  Age_months  Weight (g)\n",
      "Mouse ID                                \n",
      "s185      Female           3          17\n",
      "x401      Female          16          15\n",
      "m601        Male          22          17\n",
      "f966        Male          16          17\n",
      "u364        Male          18          17\n",
      "y793        Male          17          17\n",
      "r554      Female           8          17\n",
      "m957      Female           3          19\n",
      "t565      Female          20          17\n",
      "i738      Female          23          20\n",
      "w914        Male          24          21\n",
      "g288        Male           3          19\n",
      "l897        Male          17          19\n",
      "b742        Male           7          21\n",
      "b128      Female           9          22\n",
      "j246      Female          21          21\n",
      "j119      Female           7          23\n",
      "w150        Male          23          23\n",
      "v923      Female          19          21\n",
      "g316      Female          22          22\n",
      "s710      Female           1          23\n",
      "l509        Male          17          21\n",
      "r944        Male          12          25\n",
      "i557      Female           1          24\n",
      "r157        Male          22          25\n",
      "Choose a mouse from the table above to anlyze \n",
      " Mouse ID = l509\n"
     ]
    },
    {
     "data": {
      "text/plain": [
       "Text(0.5, 1.0, 'Treatment evaluation of mouse \"l509\" ')"
      ]
     },
     "execution_count": 10,
     "metadata": {},
     "output_type": "execute_result"
    },
    {
     "data": {
      "image/png": "[encoded data removed]",
      "text/plain": [
       "<Figure size 432x288 with 1 Axes>"
      ]
     },
     "metadata": {
      "needs_background": "light"
     },
     "output_type": "display_data"
    }
   ],
   "source": [
    "# Generate a line plot of time point versus tumor volume for a mouse treated with Capomulin\n",
    "\n",
    "#creating a new table with the values for the Capomulin drug\n",
    "capomulin_mice=mouse_metadata.loc[mouse_metadata['Drug Regimen']=='Capomulin',['Mouse ID','Sex','Age_months','Weight (g)']]\n",
    "\n",
    "#Setting Mouse ID as the index\n",
    "capomulin_mice=capomulin_mice.set_index('Mouse ID')\n",
    "\n",
    "#Presenting the user with the different mice that were treated with the Capomulin drug\n",
    "print(capomulin_mice)\n",
    "\n",
    "#Ask the user to select the mouse to be studied\n",
    "mouse=input(f'Choose a mouse from the table above to anlyze \\n Mouse ID = ')\n",
    "#Filtering for the mouse chosen\n",
    "mouseplot=combined.loc[combined['Mouse ID']==mouse,:]\n",
    "\n",
    "#Ploting the data about the mouse chosen by the user\n",
    "mouseplot.plot('Timepoint','Tumor Volume (mm3)',legend=None)\n",
    "plt.xlabel('Days of study')\n",
    "plt.ylabel('Tumor Volume (mm3)')\n",
    "plt.title(f'Treatment evaluation of mouse \"{mouse}\" ')\n",
    "\n",
    "# mouseplot.plot.line(x='Timepoint', y='Tumor Volume (mm3)')"
   ]
  },
  {
   "cell_type": "code",
   "execution_count": 14,
   "metadata": {},
   "outputs": [
    {
     "data": {
      "text/plain": [
       "<matplotlib.axes._subplots.AxesSubplot at 0x2264bf2b048>"
      ]
     },
     "execution_count": 14,
     "metadata": {},
     "output_type": "execute_result"
    },
    {
     "data": {
      "image/png": "[encoded data removed]",
      "text/plain": [
       "<Figure size 432x288 with 1 Axes>"
      ]
     },
     "metadata": {
      "needs_background": "light"
     },
     "output_type": "display_data"
    }
   ],
   "source": [
    "# Generate a scatter plot of mouse weight versus average tumor volume for the Capomulin regimen\n",
    "\n",
    "#Copying the combined table since we plan to change it\n",
    "capomulin_mice=combined.copy()\n",
    "#Filter for the Capomulin drug as asked\n",
    "capomulin_mice=capomulin_mice.loc[capomulin_mice['Drug Regimen']=='Capomulin',]\n",
    "\n",
    "#Group by mouse ID to get the average tumor for all mice treated with the above drug\n",
    "mice_group=capomulin_mice.groupby('Mouse ID')\n",
    "#Getting the avg for the tumor. since the weight is constant I also did it for the weight\n",
    "tumoravg=mice_group['Tumor Volume (mm3)','Weight (g)'].mean()\n",
    "\n",
    "#ploting it\n",
    "tumoravg.plot.scatter(x='Weight (g)',y='Tumor Volume (mm3)')\n"
   ]
  },
  {
   "cell_type": "code",
   "execution_count": 15,
   "metadata": {},
   "outputs": [
    {
     "data": {
      "image/png": "[encoded data removed]",
      "text/plain": [
       "<Figure size 432x288 with 1 Axes>"
      ]
     },
     "metadata": {
      "needs_background": "light"
     },
     "output_type": "display_data"
    },
    {
     "name": "stdout",
     "output_type": "stream",
     "text": [
      "The correlation between the mice weight and tummor volume is ~ 0.84\n"
     ]
    }
   ],
   "source": [
    "# Calculate the correlation coefficient and linear regression model for mouse weight and average tumor volume for the Capomulin regimen\n",
    "\n",
    "#Storing the weigth and the tumor avg in 2 different arays\n",
    "wei=tumoravg['Weight (g)']\n",
    "tum=tumoravg['Tumor Volume (mm3)']\n",
    "\n",
    "#calculating the correlation between the weight and the tummor value\n",
    "correlation = stats.pearsonr(wei,tum)\n",
    "\n",
    "#Calculating the values to build the regression line \n",
    "(wt_slope, wt_int, wt_r, wt_p, wt_std_err)=stats.linregress(wei,tum)\n",
    "\n",
    "#y=mx+b m=slope b=interception with the y axis\n",
    "line=wei*wt_slope+wt_int #calculating the values for y to plot it\n",
    "line_eq=f'y={round(wt_slope,2)}x+{round(wt_int,2)}' #Creating the equation to plot it\n",
    "\n",
    "#ploting it\n",
    "plt.scatter(wei,tum,)\n",
    "plt.plot(wei,line,'k-')\n",
    "plt.xlabel('Weight')\n",
    "plt.ylabel('Tummor Volume (mm3)')\n",
    "plt.title('Weight vs Tummor Volume')\n",
    "plt.annotate(line_eq,(17.8,37.6),fontsize=13)\n",
    "plt.show()\n",
    "print(f'The correlation between the mice weight and tummor volume is ~ {round(correlation[0],2)}')"
   ]
  },
  {
   "cell_type": "code",
   "execution_count": 16,
   "metadata": {},
   "outputs": [],
   "source": [
    "#---------------3 OBSERVATIONS----------------------\n",
    "\n",
    "# 1 - both the Capomulin and Ramicane have significantly lower tumor volume averages and less dispersed \n",
    "# data than the remaining drug regimen despite of having considerably more data points\n",
    "\n",
    "# 2 - There is one outlier for the infubinol regimen finishing the treatment with much lower tumor volume \n",
    "# than the remaining mice in the same regimen. Looking a little bit into it, I could not find a reason to \n",
    "# explain this outlier since the mouse's weight is also quite high.\n",
    "\n",
    "# 3 - There seems to be a very strong positive correlation between the weight and the average tumor (0.85).\n",
    "# Meaning that the heavy the mouse the higher the probability of having a larger tumor volume."
   ]
  },
  {
   "cell_type": "code",
   "execution_count": null,
   "metadata": {},
   "outputs": [],
   "source": []
  }
 ],
 "metadata": {
  "anaconda-cloud": {},
  "kernelspec": {
   "display_name": "Python 3",
   "language": "python",
   "name": "python3"
  },
  "language_info": {
   "codemirror_mode": {
    "name": "ipython",
    "version": 3
   },
   "file_extension": ".py",
   "mimetype": "text/x-python",
   "name": "python",
   "nbconvert_exporter": "python",
   "pygments_lexer": "ipython3",
   "version": "3.6.10"
  }
 },
 "nbformat": 4,
 "nbformat_minor": 2
}
